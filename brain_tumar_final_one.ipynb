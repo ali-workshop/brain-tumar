{
  "nbformat": 4,
  "nbformat_minor": 0,
  "metadata": {
    "colab": {
      "provenance": [],
      "gpuType": "T4",
      "authorship_tag": "ABX9TyNGi/n8zxyIVPVF8J74x1r+",
      "include_colab_link": true
    },
    "kernelspec": {
      "name": "python3",
      "display_name": "Python 3"
    },
    "language_info": {
      "name": "python"
    },
    "accelerator": "GPU"
  },
  "cells": [
    {
      "cell_type": "markdown",
      "metadata": {
        "id": "view-in-github",
        "colab_type": "text"
      },
      "source": [
        "<a href=\"https://colab.research.google.com/github/ali-workshop/brain-tumar/blob/main/brain_tumar_final_one.ipynb\" target=\"_parent\"><img src=\"https://colab.research.google.com/assets/colab-badge.svg\" alt=\"Open In Colab\"/></a>"
      ]
    },
    {
      "cell_type": "markdown",
      "source": [
        "#download the dataset from kaggle website"
      ],
      "metadata": {
        "id": "dYv7hBtT_1d0"
      }
    },
    {
      "cell_type": "code",
      "execution_count": null,
      "metadata": {
        "colab": {
          "base_uri": "https://localhost:8080/"
        },
        "id": "z-vYLtXsXxVM",
        "outputId": "b334f150-aab5-4877-b055-c981f32316cd"
      },
      "outputs": [
        {
          "output_type": "stream",
          "name": "stdout",
          "text": [
            "Collecting opendatasets\n",
            "  Downloading opendatasets-0.1.22-py3-none-any.whl (15 kB)\n",
            "Requirement already satisfied: tqdm in /usr/local/lib/python3.10/dist-packages (from opendatasets) (4.66.2)\n",
            "Requirement already satisfied: kaggle in /usr/local/lib/python3.10/dist-packages (from opendatasets) (1.5.16)\n",
            "Requirement already satisfied: click in /usr/local/lib/python3.10/dist-packages (from opendatasets) (8.1.7)\n",
            "Requirement already satisfied: six>=1.10 in /usr/local/lib/python3.10/dist-packages (from kaggle->opendatasets) (1.16.0)\n",
            "Requirement already satisfied: certifi in /usr/local/lib/python3.10/dist-packages (from kaggle->opendatasets) (2024.2.2)\n",
            "Requirement already satisfied: python-dateutil in /usr/local/lib/python3.10/dist-packages (from kaggle->opendatasets) (2.8.2)\n",
            "Requirement already satisfied: requests in /usr/local/lib/python3.10/dist-packages (from kaggle->opendatasets) (2.31.0)\n",
            "Requirement already satisfied: python-slugify in /usr/local/lib/python3.10/dist-packages (from kaggle->opendatasets) (8.0.4)\n",
            "Requirement already satisfied: urllib3 in /usr/local/lib/python3.10/dist-packages (from kaggle->opendatasets) (2.0.7)\n",
            "Requirement already satisfied: bleach in /usr/local/lib/python3.10/dist-packages (from kaggle->opendatasets) (6.1.0)\n",
            "Requirement already satisfied: webencodings in /usr/local/lib/python3.10/dist-packages (from bleach->kaggle->opendatasets) (0.5.1)\n",
            "Requirement already satisfied: text-unidecode>=1.3 in /usr/local/lib/python3.10/dist-packages (from python-slugify->kaggle->opendatasets) (1.3)\n",
            "Requirement already satisfied: charset-normalizer<4,>=2 in /usr/local/lib/python3.10/dist-packages (from requests->kaggle->opendatasets) (3.3.2)\n",
            "Requirement already satisfied: idna<4,>=2.5 in /usr/local/lib/python3.10/dist-packages (from requests->kaggle->opendatasets) (3.7)\n",
            "Installing collected packages: opendatasets\n",
            "Successfully installed opendatasets-0.1.22\n"
          ]
        }
      ],
      "source": [
        "!pip install opendatasets"
      ]
    },
    {
      "cell_type": "code",
      "source": [
        "import opendatasets as od\n",
        "# 6463b4d76523a3d511aadcdd9df378ec"
      ],
      "metadata": {
        "id": "JESFTW-jX16-"
      },
      "execution_count": null,
      "outputs": []
    },
    {
      "cell_type": "code",
      "source": [
        "od.download(\"https://www.kaggle.com/datasets/fernando2rad/brain-tumor-mri-images-44c\")\n"
      ],
      "metadata": {
        "colab": {
          "base_uri": "https://localhost:8080/"
        },
        "id": "voAnUoy3X5gb",
        "outputId": "a53e8999-6364-43bf-8dc1-017bd10c42dc"
      },
      "execution_count": null,
      "outputs": [
        {
          "output_type": "stream",
          "name": "stdout",
          "text": [
            "Please provide your Kaggle credentials to download this dataset. Learn more: http://bit.ly/kaggle-creds\n",
            "Your Kaggle username: alolaa\n",
            "Your Kaggle Key: ··········\n",
            "Downloading brain-tumor-mri-images-44c.zip to ./brain-tumor-mri-images-44c\n"
          ]
        },
        {
          "output_type": "stream",
          "name": "stderr",
          "text": [
            "100%|██████████| 188M/188M [00:02<00:00, 72.8MB/s]\n"
          ]
        },
        {
          "output_type": "stream",
          "name": "stdout",
          "text": [
            "\n"
          ]
        }
      ]
    },
    {
      "cell_type": "markdown",
      "source": [
        "#import libraries"
      ],
      "metadata": {
        "id": "_OFGcCUS_-SS"
      }
    },
    {
      "cell_type": "code",
      "source": [
        "# import system libs\n",
        "import os  # for operating system functionalities\n",
        "import time  # for time-related operations\n",
        "import shutil  # for high-level file operations\n",
        "import pathlib  # for working with file paths\n",
        "import itertools  # for efficient looping\n",
        "\n",
        "# import data handling tools\n",
        "import cv2  # OpenCV library for image processing\n",
        "import numpy as np  # for numerical operations\n",
        "import pandas as pd  # for data manipulation and analysis\n",
        "import seaborn as sns  # for statistical data visualization\n",
        "sns.set_style('darkgrid')  # set the seaborn plotting style\n",
        "import matplotlib.pyplot as plt  # for plotting graphs and charts\n",
        "from sklearn.model_selection import train_test_split  # for splitting data into training and testing sets\n",
        "from sklearn.metrics import confusion_matrix, classification_report  # for evaluating classification models\n",
        "\n",
        "# import Deep learning Libraries\n",
        "import tensorflow as tf  # TensorFlow deep learning library\n",
        "from tensorflow import keras  # TensorFlow's high-level neural networks API\n",
        "from tensorflow.keras.models import Sequential  # for creating sequential models\n",
        "from tensorflow.keras.optimizers import Adam, Adamax  # optimization algorithms\n",
        "from tensorflow.keras.metrics import categorical_crossentropy  # loss function for categorical data\n",
        "from tensorflow.keras.preprocessing.image import ImageDataGenerator  # for generating batches of image data\n",
        "from tensorflow.keras.layers import Conv2D, MaxPooling2D, Flatten, Dense, Activation, Dropout, BatchNormalization  # layers for building neural networks\n",
        "from tensorflow.keras import regularizers  # for regularization techniques\n",
        "\n",
        "# Ignore Warnings\n",
        "import warnings  # for suppressing warnings\n",
        "warnings.filterwarnings(\"ignore\")  # ignore warning messages\n",
        "\n",
        "print('modules loaded')  # print a message indicating that modules are loaded\n"
      ],
      "metadata": {
        "colab": {
          "base_uri": "https://localhost:8080/"
        },
        "id": "nTk7TVisX8S-",
        "outputId": "3135d3ab-7aea-424c-eb71-a247c11c539d"
      },
      "execution_count": null,
      "outputs": [
        {
          "output_type": "stream",
          "name": "stdout",
          "text": [
            "modules loaded\n"
          ]
        }
      ]
    },
    {
      "cell_type": "markdown",
      "source": [
        "#define helper functions to read the data"
      ],
      "metadata": {
        "id": "b8JkKJNzABCX"
      }
    },
    {
      "cell_type": "code",
      "source": [
        "# Generate data paths with labels\n",
        "def define_paths(dir):\n",
        "    filepaths = []  # list to store file paths\n",
        "    labels = []  # list to store corresponding labels\n",
        "\n",
        "    folds = os.listdir(dir)  # list all folders in the directory\n",
        "    for fold in folds:  # iterate through each folder\n",
        "        foldpath = os.path.join(dir, fold)  # create the full path of the folder\n",
        "        filelist = os.listdir(foldpath)  # list all files in the folder\n",
        "        for file in filelist:  # iterate through each file in the folder\n",
        "            fpath = os.path.join(foldpath, file)  # create the full path of the file\n",
        "            filepaths.append(fpath)  # append the file path to the list\n",
        "            labels.append(fold)  # append the label (folder name) to the list\n",
        "\n",
        "    return filepaths, labels  # return the lists of file paths and labels\n",
        "\n",
        "\n",
        "# Concatenate data paths with labels into one dataframe ( to later be fitted into the model )\n",
        "def define_df(files, classes):\n",
        "    # Create Pandas series for file paths and labels\n",
        "    Fseries = pd.Series(files, name='filepaths')\n",
        "    Lseries = pd.Series(classes, name='labels')\n",
        "    # Concatenate the series along axis 1 to create the dataframe\n",
        "    return pd.concat([Fseries, Lseries], axis=1)\n"
      ],
      "metadata": {
        "id": "TSGFz2RSYVen"
      },
      "execution_count": null,
      "outputs": []
    },
    {
      "cell_type": "code",
      "source": [
        "# Function that contains only a directory of data and it is not splitted\n",
        "def tr_ts_data(tr_dir, ts_dir):\n",
        "    # Generate train dataframe\n",
        "    files, classes = define_paths(tr_dir)  # Get file paths and labels from the training directory\n",
        "    df = define_df(files, classes)  # Create a dataframe from the file paths and labels\n",
        "    strat = df['labels']  # Use labels for stratification during splitting\n",
        "    train_df, valid_df = train_test_split(df, train_size=0.8, shuffle=True, random_state=123, stratify=strat)  # Split into train and validation sets\n",
        "\n",
        "    # Generate test dataframe\n",
        "    files, classes = define_paths(ts_dir)  # Get file paths and labels from the testing directory\n",
        "    test_df = define_df(files, classes)  # Create a dataframe from the file paths and labels\n",
        "\n",
        "    return train_df, valid_df, test_df  # Return train, validation, and test dataframes\n",
        "\n",
        "\n",
        "# Function that contains train and test directory of data.\n",
        "def full_data(data_dir):\n",
        "    # Generate train dataframe\n",
        "    files, classes = define_paths(data_dir)  # Get file paths and labels from the data directory\n",
        "    df = define_df(files, classes)  # Create a dataframe from the file paths and labels\n",
        "    strat = df['labels']  # Use labels for stratification during splitting\n",
        "    train_df, dummy_df = train_test_split(df, train_size=0.8, shuffle=True, random_state=123, stratify=strat)  # Split into train and a dummy set\n",
        "\n",
        "    # Generate validation and test dataframes\n",
        "    strat = dummy_df['labels']  # Use labels for stratification during splitting\n",
        "    valid_df, test_df = train_test_split(dummy_df, train_size=0.5, shuffle=True, random_state=123, stratify=strat)  # Split dummy set into validation and test sets\n",
        "\n",
        "    return train_df, valid_df, test_df  # Return train, validation, and test dataframes\n",
        "\n",
        "\n",
        "# Function that contains the three directories of data: train, validation, and test\n",
        "def tr_val_ts_data(tr_dir, val_dir, ts_dir):\n",
        "    # Generate train dataframe\n",
        "    files, classes = define_paths(tr_dir)  # Get file paths and labels from the training directory\n",
        "    train_df = define_df(files, classes)  # Create a dataframe from the file paths and labels\n",
        "\n",
        "    # Generate validation dataframe\n",
        "    files, classes = define_paths(val_dir)  # Get file paths and labels from the validation directory\n",
        "    valid_df = define_df(files, classes)  # Create a dataframe from the file paths and labels\n",
        "\n",
        "    # Generate test dataframe\n",
        "    files, classes = define_paths(ts_dir)  # Get file paths and labels from the testing directory\n",
        "    test_df = define_df(files, classes)  # Create a dataframe from the file paths and labels\n",
        "\n",
        "    return train_df, valid_df, test_df  # Return train, validation, and test dataframes\n"
      ],
      "metadata": {
        "id": "2KCZyjOrYZxV"
      },
      "execution_count": null,
      "outputs": []
    },
    {
      "cell_type": "code",
      "source": [
        "def split_data(tr_dir, val_dir=None, ts_dir=None):\n",
        "    '''\n",
        "        This function split data into train, valid, and test after convert it to a dataframe.\n",
        "        Dataset can be in several formats, it can contain train, valid, and test data, or it can contain only train and test data, etc.\n",
        "        It depends on other needed function:\n",
        "        - full_data function that contain only a directory of data and it is not splitted.\n",
        "        - tr_ts_data function that contain train and test directory of data.\n",
        "        - tr_val_ts_data function that contain the three directory of data train, valid, and test.\n",
        "    '''\n",
        "\n",
        "    # No Validation or Test data\n",
        "    if val_dir == '' and ts_dir == '':\n",
        "        train_df, valid_df, test_df = full_data(tr_dir)\n",
        "        return train_df, valid_df, test_df\n",
        "\n",
        "    # No Validation data\n",
        "    elif val_dir == '' and ts_dir != '':\n",
        "        train_df, valid_df, test_df = tr_ts_data(tr_dir, ts_dir)\n",
        "        return train_df, valid_df, test_df\n",
        "\n",
        "    # All data existed\n",
        "    elif val_dir != '' and ts_dir != '':\n",
        "        train_df, valid_df, test_df = tr_val_ts_data(tr_dir, val_dir, ts_dir)\n",
        "        return train_df, valid_df, test_df"
      ],
      "metadata": {
        "id": "_DTy0tpOYfn5"
      },
      "execution_count": null,
      "outputs": []
    },
    {
      "cell_type": "code",
      "source": [
        "def create_model_data (train_df, valid_df, test_df, batch_size):\n",
        "    '''\n",
        "    This function takes train, validation, and test dataframe and fit them into image data generator, because model takes data from image data generator.\n",
        "    Image data generator converts images into tensors. '''\n",
        "\n",
        "\n",
        "    # define model parameters\n",
        "    img_size = (224, 224)\n",
        "    channels = 3 # either BGR or Grayscale\n",
        "    color = 'rgb'\n",
        "    img_shape = (img_size[0], img_size[1], channels)\n",
        "\n",
        "    # Recommended : use custom function for test data batch size, else we can use normal batch size.\n",
        "    ts_length = len(test_df)\n",
        "    test_batch_size = max(sorted([ts_length // n for n in range(1, ts_length + 1) if ts_length%n == 0 and ts_length/n <= 80]))\n",
        "    test_steps = ts_length // test_batch_size\n",
        "\n",
        "    # This function which will be used in image data generator for data augmentation, it just take the image and return it again.\n",
        "    def scalar(img):\n",
        "        return img\n",
        "\n",
        "    tr_gen = ImageDataGenerator(preprocessing_function= scalar, horizontal_flip= True)\n",
        "    ts_gen = ImageDataGenerator(preprocessing_function= scalar)\n",
        "\n",
        "    train_gen = tr_gen.flow_from_dataframe( train_df, x_col= 'filepaths', y_col= 'labels', target_size= img_size, class_mode= 'categorical',\n",
        "                                        color_mode= color, shuffle= True, batch_size= batch_size)\n",
        "\n",
        "    valid_gen = ts_gen.flow_from_dataframe( valid_df, x_col= 'filepaths', y_col= 'labels', target_size= img_size, class_mode= 'categorical',\n",
        "                                        color_mode= color, shuffle= True, batch_size= batch_size)\n",
        "\n",
        "    # Note: we will use custom test_batch_size, and make shuffle= false\n",
        "    test_gen = ts_gen.flow_from_dataframe( test_df, x_col= 'filepaths', y_col= 'labels', target_size= img_size, class_mode= 'categorical',\n",
        "                                        color_mode= color, shuffle= False, batch_size= test_batch_size)\n",
        "\n",
        "    return train_gen, valid_gen, test_gen\n"
      ],
      "metadata": {
        "id": "6XmmRiHcYjzs"
      },
      "execution_count": null,
      "outputs": []
    },
    {
      "cell_type": "markdown",
      "source": [
        "#define helper class for Modeling"
      ],
      "metadata": {
        "id": "xjEmRva-AIxT"
      }
    },
    {
      "cell_type": "code",
      "source": [
        "class MyCallback(keras.callbacks.Callback):\n",
        "    def __init__(self, model, patience, stop_patience, threshold, factor, batches, epochs, ask_epoch):\n",
        "        super(MyCallback, self).__init__()\n",
        "        self.model = model\n",
        "        self.patience = patience # specifies how many epochs without improvement before learning rate is adjusted\n",
        "        self.stop_patience = stop_patience # specifies how many times to adjust lr without improvement to stop training\n",
        "        self.threshold = threshold # specifies training accuracy threshold when lr will be adjusted based on validation loss\n",
        "        self.factor = factor # factor by which to reduce the learning rate\n",
        "        self.batches = batches # number of training batch to run per epoch\n",
        "        self.epochs = epochs\n",
        "        self.ask_epoch = ask_epoch\n",
        "        self.ask_epoch_initial = ask_epoch # save this value to restore if restarting training\n",
        "\n",
        "        # callback variables\n",
        "        self.count = 0 # how many times lr has been reduced without improvement\n",
        "        self.stop_count = 0\n",
        "        self.best_epoch = 1   # epoch with the lowest loss\n",
        "        self.initial_lr = float(tf.keras.backend.get_value(model.optimizer.lr)) # get the initial learning rate and save it\n",
        "        self.highest_tracc = 0.0 # set highest training accuracy to 0 initially\n",
        "        self.lowest_vloss = np.inf # set lowest validation loss to infinity initially\n",
        "        self.best_weights = self.model.get_weights() # set best weights to model's initial weights\n",
        "        self.initial_weights = self.model.get_weights()   # save initial weights if they have to get restored\n",
        "\n",
        "    # Define a function that will run when train begins\n",
        "    def on_train_begin(self, logs= None):\n",
        "        msg = 'Do you want model asks you to halt the training [y/n] ?'\n",
        "        print(msg)\n",
        "        ans = input('')\n",
        "        if ans in ['Y', 'y']:\n",
        "            self.ask_permission = 1\n",
        "        elif ans in ['N', 'n']:\n",
        "            self.ask_permission = 0\n",
        "\n",
        "        msg = '{0:^8s}{1:^10s}{2:^9s}{3:^9s}{4:^9s}{5:^9s}{6:^9s}{7:^10s}{8:10s}{9:^8s}'.format('Epoch', 'Loss', 'Accuracy', 'V_loss', 'V_acc', 'LR', 'Next LR', 'Monitor','% Improv', 'Duration')\n",
        "        print(msg)\n",
        "        self.start_time = time.time()\n",
        "\n",
        "\n",
        "    def on_train_end(self, logs= None):\n",
        "        stop_time = time.time()\n",
        "        tr_duration = stop_time - self.start_time\n",
        "        hours = tr_duration // 3600\n",
        "        minutes = (tr_duration - (hours * 3600)) // 60\n",
        "        seconds = tr_duration - ((hours * 3600) + (minutes * 60))\n",
        "\n",
        "        msg = f'training elapsed time was {str(hours)} hours, {minutes:4.1f} minutes, {seconds:4.2f} seconds)'\n",
        "        print(msg)\n",
        "\n",
        "        # set the weights of the model to the best weights\n",
        "        self.model.set_weights(self.best_weights)\n",
        "\n",
        "\n",
        "    def on_train_batch_end(self, batch, logs= None):\n",
        "        # get batch accuracy and loss\n",
        "        acc = logs.get('accuracy') * 100\n",
        "        loss = logs.get('loss')\n",
        "\n",
        "        # prints over on the same line to show running batch count\n",
        "        msg = '{0:20s}processing batch {1:} of {2:5s}-   accuracy=  {3:5.3f}   -   loss: {4:8.5f}'.format(' ', str(batch), str(self.batches), acc, loss)\n",
        "        print(msg, '\\r', end= '')\n",
        "\n",
        "\n",
        "    def on_epoch_begin(self, epoch, logs= None):\n",
        "        self.ep_start = time.time()\n",
        "\n",
        "\n",
        "    # Define method runs on the end of each epoch\n",
        "    def on_epoch_end(self, epoch, logs= None):\n",
        "        ep_end = time.time()\n",
        "        duration = ep_end - self.ep_start\n",
        "\n",
        "        lr = float(tf.keras.backend.get_value(self.model.optimizer.lr)) # get the current learning rate\n",
        "        current_lr = lr\n",
        "        acc = logs.get('accuracy')  # get training accuracy\n",
        "        v_acc = logs.get('val_accuracy')  # get validation accuracy\n",
        "        loss = logs.get('loss')  # get training loss for this epoch\n",
        "        v_loss = logs.get('val_loss')  # get the validation loss for this epoch\n",
        "\n",
        "        if acc < self.threshold: # if training accuracy is below threshold adjust lr based on training accuracy\n",
        "            monitor = 'accuracy'\n",
        "            if epoch == 0:\n",
        "                pimprov = 0.0\n",
        "            else:\n",
        "                pimprov = (acc - self.highest_tracc ) * 100 / self.highest_tracc # define improvement of model progres\n",
        "\n",
        "            if acc > self.highest_tracc: # training accuracy improved in the epoch\n",
        "                self.highest_tracc = acc # set new highest training accuracy\n",
        "                self.best_weights = self.model.get_weights() # training accuracy improved so save the weights\n",
        "                self.count = 0 # set count to 0 since training accuracy improved\n",
        "                self.stop_count = 0 # set stop counter to 0\n",
        "                if v_loss < self.lowest_vloss:\n",
        "                    self.lowest_vloss = v_loss\n",
        "                self.best_epoch = epoch + 1  # set the value of best epoch for this epoch\n",
        "\n",
        "            else:\n",
        "                # training accuracy did not improve check if this has happened for patience number of epochs\n",
        "                # if so adjust learning rate\n",
        "                if self.count >= self.patience - 1: # lr should be adjusted\n",
        "                    lr = lr * self.factor # adjust the learning by factor\n",
        "                    tf.keras.backend.set_value(self.model.optimizer.lr, lr) # set the learning rate in the optimizer\n",
        "                    self.count = 0 # reset the count to 0\n",
        "                    self.stop_count = self.stop_count + 1 # count the number of consecutive lr adjustments\n",
        "                    self.count = 0 # reset counter\n",
        "                    if v_loss < self.lowest_vloss:\n",
        "                        self.lowest_vloss = v_loss\n",
        "                else:\n",
        "                    self.count = self.count + 1 # increment patience counter\n",
        "\n",
        "        else: # training accuracy is above threshold so adjust learning rate based on validation loss\n",
        "            monitor = 'val_loss'\n",
        "            if epoch == 0:\n",
        "                pimprov = 0.0\n",
        "\n",
        "            else:\n",
        "                pimprov = (self.lowest_vloss - v_loss ) * 100 / self.lowest_vloss\n",
        "\n",
        "            if v_loss < self.lowest_vloss: # check if the validation loss improved\n",
        "                self.lowest_vloss = v_loss # replace lowest validation loss with new validation loss\n",
        "                self.best_weights = self.model.get_weights() # validation loss improved so save the weights\n",
        "                self.count = 0 # reset count since validation loss improved\n",
        "                self.stop_count = 0\n",
        "                self.best_epoch = epoch + 1 # set the value of the best epoch to this epoch\n",
        "\n",
        "            else: # validation loss did not improve\n",
        "                if self.count >= self.patience - 1: # need to adjust lr\n",
        "                    lr = lr * self.factor # adjust the learning rate\n",
        "                    self.stop_count = self.stop_count + 1 # increment stop counter because lr was adjusted\n",
        "                    self.count = 0 # reset counter\n",
        "                    tf.keras.backend.set_value(self.model.optimizer.lr, lr) # set the learning rate in the optimizer\n",
        "\n",
        "                else:\n",
        "                    self.count = self.count + 1 # increment the patience counter\n",
        "\n",
        "                if acc > self.highest_tracc:\n",
        "                    self.highest_tracc = acc\n",
        "\n",
        "        msg = f'{str(epoch + 1):^3s}/{str(self.epochs):4s} {loss:^9.3f}{acc * 100:^9.3f}{v_loss:^9.5f}{v_acc * 100:^9.3f}{current_lr:^9.5f}{lr:^9.5f}{monitor:^11s}{pimprov:^10.2f}{duration:^8.2f}'\n",
        "        print(msg)\n",
        "\n",
        "        if self.stop_count > self.stop_patience - 1: # check if learning rate has been adjusted stop_count times with no improvement\n",
        "            msg = f' training has been halted at epoch {epoch + 1} after {self.stop_patience} adjustments of learning rate with no improvement'\n",
        "            print(msg)\n",
        "            self.model.stop_training = True # stop training\n",
        "\n",
        "        else:\n",
        "            if self.ask_epoch != None and self.ask_permission != 0:\n",
        "                if epoch + 1 >= self.ask_epoch:\n",
        "                    msg = 'enter H to halt training or an integer for number of epochs to run then ask again'\n",
        "                    print(msg)\n",
        "\n",
        "                    ans = input('')\n",
        "                    if ans == 'H' or ans == 'h':\n",
        "                        msg = f'training has been halted at epoch {epoch + 1} due to user input'\n",
        "                        print(msg)\n",
        "                        self.model.stop_training = True # stop training\n",
        "\n",
        "                    else:\n",
        "                        try:\n",
        "                            ans = int(ans)\n",
        "                            self.ask_epoch += ans\n",
        "                            msg = f' training will continue until epoch {str(self.ask_epoch)}'\n",
        "                            print(msg)\n",
        "                            msg = '{0:^8s}{1:^10s}{2:^9s}{3:^9s}{4:^9s}{5:^9s}{6:^9s}{7:^10s}{8:10s}{9:^8s}'.format('Epoch', 'Loss', 'Accuracy', 'V_loss', 'V_acc', 'LR', 'Next LR', 'Monitor', '% Improv', 'Duration')\n",
        "                            print(msg)\n",
        "\n",
        "                        except Exception:\n",
        "                            print('Invalid')\n"
      ],
      "metadata": {
        "id": "GzlXlz15Yo40"
      },
      "execution_count": null,
      "outputs": []
    },
    {
      "cell_type": "markdown",
      "source": [
        "#define function to plot the training"
      ],
      "metadata": {
        "id": "z_23QFbEANJ4"
      }
    },
    {
      "cell_type": "code",
      "source": [
        "def plot_training(hist):\n",
        "    '''\n",
        "    This function takes a training model and plots the history of accuracy and losses with the best epoch in both of them.\n",
        "    '''\n",
        "\n",
        "    # Define needed variables\n",
        "    tr_acc = hist.history['accuracy']  # training accuracy\n",
        "    tr_loss = hist.history['loss']  # training loss\n",
        "    val_acc = hist.history['val_accuracy']  # validation accuracy\n",
        "    val_loss = hist.history['val_loss']  # validation loss\n",
        "    index_loss = np.argmin(val_loss)  # index of the epoch with the lowest validation loss\n",
        "    val_lowest = val_loss[index_loss]  # lowest validation loss\n",
        "    index_acc = np.argmax(val_acc)  # index of the epoch with the highest validation accuracy\n",
        "    acc_highest = val_acc[index_acc]  # highest validation accuracy\n",
        "    Epochs = [i + 1 for i in range(len(tr_acc))]  # list of epochs\n",
        "    loss_label = f'best epoch= {str(index_loss + 1)}'  # label for the epoch with the lowest validation loss\n",
        "    acc_label = f'best epoch= {str(index_acc + 1)}'  # label for the epoch with the highest validation accuracy\n",
        "\n",
        "    # Plot training history\n",
        "    plt.figure(figsize=(20, 8))\n",
        "    plt.style.use('fivethirtyeight')\n",
        "\n",
        "    plt.subplot(1, 2, 1)\n",
        "    plt.plot(Epochs, tr_loss, 'r', label='Training loss')\n",
        "    plt.plot(Epochs, val_loss, 'g', label='Validation loss')\n",
        "    plt.scatter(index_loss + 1, val_lowest, s=150, c='blue', label=loss_label)\n",
        "    plt.title('Training and Validation Loss')\n",
        "    plt.xlabel('Epochs')\n",
        "    plt.ylabel('Loss')\n",
        "    plt.legend()\n",
        "\n",
        "    plt.subplot(1, 2, 2)\n",
        "    plt.plot(Epochs, tr_acc, 'r', label='Training Accuracy')\n",
        "    plt.plot(Epochs, val_acc, 'g', label='Validation Accuracy')\n",
        "    plt.scatter(index_acc + 1, acc_highest, s=150, c='blue', label=acc_label)\n",
        "    plt.title('Training and Validation Accuracy')\n",
        "    plt.xlabel('Epochs')\n",
        "    plt.ylabel('Accuracy')\n",
        "    plt.legend()\n",
        "\n",
        "    plt.tight_layout()\n",
        "    plt.show()\n"
      ],
      "metadata": {
        "id": "OlZEWmVLY1bS"
      },
      "execution_count": null,
      "outputs": []
    },
    {
      "cell_type": "markdown",
      "source": [
        "#enter the data path"
      ],
      "metadata": {
        "id": "csR4jtMFAQWD"
      }
    },
    {
      "cell_type": "code",
      "source": [
        "train_dir =\"/content/brain-tumor-mri-images-44c\"\n",
        "valid_dir ='' #this dir is empty by default so we will use some of train_dir to fill it with some images\n",
        "test_dir = ''#this dir is empty by default so we will use some of train_dir to fill it with some images\n",
        "train_df, valid_df, test_df = split_data(train_dir, valid_dir, test_dir)\n",
        "# Get Generators\n",
        "batch_size = 40\n",
        "train_gen, valid_gen, test_gen = create_model_data(train_df, valid_df, test_df, batch_size)"
      ],
      "metadata": {
        "colab": {
          "base_uri": "https://localhost:8080/"
        },
        "id": "wqOCoX31Y5jc",
        "outputId": "98cd9546-80e9-40a2-f77f-31880e7dde27"
      },
      "execution_count": null,
      "outputs": [
        {
          "output_type": "stream",
          "name": "stdout",
          "text": [
            "Enter train data directory: /content/brain-tumor-mri-images-44c\n",
            "Enter validation data directory (if no valid dir press Enter): \n",
            "Enter test data directory (if no test dir press Enter): \n",
            "Found 3582 validated image filenames belonging to 44 classes.\n",
            "Found 448 validated image filenames belonging to 44 classes.\n",
            "Found 448 validated image filenames belonging to 44 classes.\n"
          ]
        }
      ]
    },
    {
      "cell_type": "markdown",
      "source": [
        "#build the model"
      ],
      "metadata": {
        "id": "yv_7bWeeBCuP"
      }
    },
    {
      "cell_type": "code",
      "source": [
        "# Create Model Structure\n",
        "img_size = (224, 224)  # image size\n",
        "channels = 3  # number of image channels\n",
        "img_shape = (img_size[0], img_size[1], channels)  # image shape\n",
        "class_count = len(list(train_gen.class_indices.keys()))  # number of classes in the dataset\n",
        "\n",
        "# Create pre-trained model (you can build on a pretrained model such as: EfficientNet, VGG, ResNet)\n",
        "# We will use EfficientNetB3 from the EfficientNet family.\n",
        "base_model = tf.keras.applications.efficientnet.EfficientNetB3(include_top=False, weights=\"imagenet\", input_shape=img_shape, pooling='max')\n",
        "\n",
        "model = Sequential([\n",
        "    base_model,  # add the pretrained base model\n",
        "    BatchNormalization(axis=-1, momentum=0.99, epsilon=0.001),  # batch normalization layer\n",
        "    Dense(256, kernel_regularizer=regularizers.l2(l=0.016), activity_regularizer=regularizers.l1(0.006),\n",
        "          bias_regularizer=regularizers.l1(0.006), activation='relu'),  # dense layer with regularization\n",
        "    Dropout(rate=0.45, seed=123),  # dropout layer\n",
        "    Dense(class_count, activation='softmax')  # output layer with softmax activation\n",
        "])\n",
        "\n",
        "model.compile(Adamax(learning_rate=0.001), loss='categorical_crossentropy', metrics=['accuracy'])  # compile the model\n",
        "\n",
        "model.summary()  # print model summary\n"
      ],
      "metadata": {
        "colab": {
          "base_uri": "https://localhost:8080/"
        },
        "id": "2tkVhe3EZTTV",
        "outputId": "a49a6d84-c49b-4005-81a4-58aac6fbcdef"
      },
      "execution_count": null,
      "outputs": [
        {
          "output_type": "stream",
          "name": "stdout",
          "text": [
            "Downloading data from https://storage.googleapis.com/keras-applications/efficientnetb3_notop.h5\n",
            "43941136/43941136 [==============================] - 0s 0us/step\n",
            "Model: \"sequential\"\n",
            "_________________________________________________________________\n",
            " Layer (type)                Output Shape              Param #   \n",
            "=================================================================\n",
            " efficientnetb3 (Functional  (None, 1536)              10783535  \n",
            " )                                                               \n",
            "                                                                 \n",
            " batch_normalization (Batch  (None, 1536)              6144      \n",
            " Normalization)                                                  \n",
            "                                                                 \n",
            " dense (Dense)               (None, 256)               393472    \n",
            "                                                                 \n",
            " dropout (Dropout)           (None, 256)               0         \n",
            "                                                                 \n",
            " dense_1 (Dense)             (None, 44)                11308     \n",
            "                                                                 \n",
            "=================================================================\n",
            "Total params: 11194459 (42.70 MB)\n",
            "Trainable params: 11104084 (42.36 MB)\n",
            "Non-trainable params: 90375 (353.03 KB)\n",
            "_________________________________________________________________\n"
          ]
        }
      ]
    },
    {
      "cell_type": "markdown",
      "source": [
        "#set configirations"
      ],
      "metadata": {
        "id": "trBEtRwMBFIJ"
      }
    },
    {
      "cell_type": "code",
      "source": [
        "batch_size = 40   # set batch size for training\n",
        "epochs = 40   # number of all epochs in training\n",
        "patience = 1   #number of epochs to wait to adjust lr if monitored value does not improve\n",
        "stop_patience = 3   # number of epochs to wait before stopping training if monitored value does not improve\n",
        "threshold = 0.9   # if train accuracy is < threshold adjust monitor accuracy, else monitor validation loss\n",
        "factor = 0.5   # factor to reduce lr by\n",
        "ask_epoch = 5   # number of epochs to run before asking if you want to halt training\n",
        "batches = int(np.ceil(len(train_gen.labels) / batch_size))    # number of training batch to run per epoch\n",
        "\n",
        "callbacks = [MyCallback(model= model, patience= patience, stop_patience= stop_patience, threshold= threshold,\n",
        "            factor= factor, batches= batches, epochs= epochs, ask_epoch= ask_epoch )]"
      ],
      "metadata": {
        "id": "m4pTj7W5ZZwR"
      },
      "execution_count": null,
      "outputs": []
    },
    {
      "cell_type": "markdown",
      "source": [
        "#start training"
      ],
      "metadata": {
        "id": "GwAelQtpBHjE"
      }
    },
    {
      "cell_type": "code",
      "source": [
        "history = model.fit(x=train_gen,  # training data generator\n",
        "                    epochs=epochs,  # number of epochs\n",
        "                    verbose=0,  # no verbosity (silent)\n",
        "                    callbacks=callbacks,  # callbacks for monitoring training\n",
        "                    validation_data=valid_gen,  # validation data generator\n",
        "                    validation_steps=None,  # number of validation steps\n",
        "                    shuffle=False)  # do not shuffle the data during training\n"
      ],
      "metadata": {
        "colab": {
          "base_uri": "https://localhost:8080/"
        },
        "id": "XSdgV1f1ZdjI",
        "outputId": "5df513e8-52ac-4c8e-c617-85956a80626e"
      },
      "execution_count": null,
      "outputs": [
        {
          "output_type": "stream",
          "name": "stdout",
          "text": [
            "Do you want model asks you to halt the training [y/n] ?\n",
            "n\n",
            " Epoch     Loss   Accuracy  V_loss    V_acc     LR     Next LR  Monitor  % Improv  Duration\n",
            " 1 /40     9.676   37.716   8.68665  41.741   0.00100  0.00100  accuracy     0.00    123.21 \n",
            " 2 /40     7.177   66.164   6.57236  66.741   0.00100  0.00100  accuracy    75.43    56.62  \n",
            " 3 /40     5.664   80.877   5.26019  78.125   0.00100  0.00100  accuracy    22.24    56.75  \n",
            " 4 /40     4.563   88.414   4.30822  82.589   0.00100  0.00100  accuracy     9.32    57.33  \n",
            " 5 /40     3.686   93.104   3.51708  86.830   0.00100  0.00100  val_loss    18.36    57.72  \n",
            " 6 /40     2.984   95.142   2.81956  89.732   0.00100  0.00100  val_loss    19.83    57.02  \n",
            " 7 /40     2.409   96.706   2.25475  93.080   0.00100  0.00100  val_loss    20.03    57.44  \n",
            " 8 /40     1.947   97.850   1.85287  91.964   0.00100  0.00100  val_loss    17.82    57.55  \n",
            " 9 /40     1.585   98.297   1.54067  93.973   0.00100  0.00100  val_loss    16.85    57.88  \n",
            "10 /40     1.302   98.465   1.28569  93.304   0.00100  0.00100  val_loss    16.55    57.04  \n",
            "11 /40     1.090   98.800   1.07978  95.312   0.00100  0.00100  val_loss    16.02    57.55  \n",
            "12 /40     0.910   99.470   0.95846  94.420   0.00100  0.00100  val_loss    11.24    57.29  \n",
            "13 /40     0.788   99.135   0.81559  94.866   0.00100  0.00100  val_loss    14.91    57.15  \n",
            "14 /40     0.687   99.414   0.70976  95.982   0.00100  0.00100  val_loss    12.98    57.42  \n",
            "15 /40     0.616   99.470   0.69545  95.089   0.00100  0.00100  val_loss     2.02    57.12  \n",
            "16 /40     0.572   99.330   0.66852  94.643   0.00100  0.00100  val_loss     3.87    57.58  \n",
            "17 /40     0.533   99.553   0.61533  95.089   0.00100  0.00100  val_loss     7.96    56.97  \n",
            "18 /40     0.502   99.581   0.60404  95.536   0.00100  0.00100  val_loss     1.84    57.13  \n",
            "19 /40     0.495   99.162   0.65544  93.080   0.00100  0.00050  val_loss    -8.51    57.39  \n",
            "20 /40     0.462   99.497   0.53983  95.536   0.00050  0.00050  val_loss    10.63    57.56  \n",
            "21 /40     0.440   99.609   0.53020  96.205   0.00050  0.00050  val_loss     1.78    57.33  \n",
            "22 /40     0.429   99.637   0.53201  95.536   0.00050  0.00025  val_loss    -0.34    57.22  \n",
            "23 /40     0.417   99.749   0.49681  96.205   0.00025  0.00025  val_loss     6.30    57.97  \n",
            "24 /40     0.409   99.721   0.49502  95.982   0.00025  0.00025  val_loss     0.36    57.74  \n",
            "25 /40     0.402   99.805   0.49554  95.982   0.00025  0.00013  val_loss    -0.10    57.50  \n",
            "26 /40     0.395   99.805   0.49251  95.982   0.00013  0.00013  val_loss     0.51    57.33  \n",
            "27 /40     0.390   99.749   0.48497  95.982   0.00013  0.00013  val_loss     1.53    57.10  \n",
            "28 /40     0.388   99.777   0.48661  95.982   0.00013  0.00006  val_loss    -0.34    57.95  \n",
            "29 /40     0.384   99.721   0.48208  95.982   0.00006  0.00006  val_loss     0.60    56.97  \n",
            "30 /40     0.385   99.805   0.48015  95.982   0.00006  0.00006  val_loss     0.40    56.97  \n",
            "31 /40     0.382   99.721   0.48103  95.982   0.00006  0.00003  val_loss    -0.18    58.07  \n",
            "32 /40     0.382   99.777   0.47814  95.982   0.00003  0.00003  val_loss     0.42    57.71  \n",
            "33 /40     0.376   99.888   0.47492  95.982   0.00003  0.00003  val_loss     0.67    57.46  \n",
            "34 /40     0.378   99.693   0.47552  95.982   0.00003  0.00002  val_loss    -0.13    57.22  \n",
            "35 /40     0.375   99.832   0.47631  95.982   0.00002  0.00001  val_loss    -0.29    57.53  \n",
            "36 /40     0.378   99.832   0.47617  95.982   0.00001  0.00000  val_loss    -0.26    57.02  \n",
            " training has been halted at epoch 36 after 3 adjustments of learning rate with no improvement\n",
            "training elapsed time was 0.0 hours, 41.0 minutes, 17.76 seconds)\n"
          ]
        }
      ]
    },
    {
      "cell_type": "markdown",
      "source": [
        "#plot the training curves"
      ],
      "metadata": {
        "id": "mhxeu5KeBJss"
      }
    },
    {
      "cell_type": "code",
      "source": [
        "plot_training(history)"
      ],
      "metadata": {
        "colab": {
          "base_uri": "https://localhost:8080/",
          "height": 628
        },
        "id": "iIcgli5OZfI1",
        "outputId": "d21e4ace-d699-4dfd-bc55-b8a2e54a1dd4"
      },
      "execution_count": null,
      "outputs": [
        {
          "output_type": "display_data",
          "data": {
            "text/plain": [
              "<Figure size 2000x800 with 2 Axes>"
            ],
            "image/png": "[encoded data removed]"
          },
          "metadata": {}
        }
      ]
    },
    {
      "cell_type": "markdown",
      "source": [
        "#Evaluate the Model"
      ],
      "metadata": {
        "id": "YOYDLFn4BMef"
      }
    },
    {
      "cell_type": "code",
      "source": [
        "ts_length = len(test_df)  # length of the test dataset\n",
        "test_batch_size = max(sorted([ts_length // n for n in range(1, ts_length + 1) if ts_length % n == 0 and ts_length / n <= 80]))  # calculate the test batch size\n",
        "test_steps = ts_length // test_batch_size  # calculate the number of steps for testing\n",
        "\n",
        "# Evaluate the model on the training data\n",
        "train_score = model.evaluate(train_gen, steps=test_steps, verbose=1)\n",
        "\n",
        "# Evaluate the model on the validation data\n",
        "valid_score = model.evaluate(valid_gen, steps=test_steps, verbose=1)\n",
        "\n",
        "# Evaluate the model on the test data\n",
        "test_score = model.evaluate(test_gen, steps=test_steps, verbose=1)\n",
        "\n",
        "# Print evaluation results\n",
        "print(\"Train Loss: \", train_score[0])\n",
        "print(\"Train Accuracy: \", train_score[1])\n",
        "print('-' * 20)\n",
        "print(\"Validation Loss: \", valid_score[0])\n",
        "print(\"Validation Accuracy: \", valid_score[1])\n",
        "print('-' * 20)\n",
        "print(\"Test Loss: \", test_score[0])\n",
        "print(\"Test Accuracy: \", test_score[1])\n"
      ],
      "metadata": {
        "colab": {
          "base_uri": "https://localhost:8080/"
        },
        "id": "daXlMmhTZr_i",
        "outputId": "2ead6daf-9257-4e0a-dd62-b5a01496b237"
      },
      "execution_count": null,
      "outputs": [
        {
          "output_type": "stream",
          "name": "stdout",
          "text": [
            "7/7 [==============================] - 1s 175ms/step - loss: 0.3319 - accuracy: 1.0000\n",
            "7/7 [==============================] - 1s 156ms/step - loss: 0.4214 - accuracy: 0.9714\n",
            "7/7 [==============================] - 5s 268ms/step - loss: 0.4434 - accuracy: 0.9754\n",
            "Train Loss:  0.33188673853874207\n",
            "Train Accuracy:  1.0\n",
            "--------------------\n",
            "Validation Loss:  0.4214301109313965\n",
            "Validation Accuracy:  0.9714285731315613\n",
            "--------------------\n",
            "Test Loss:  0.4434177875518799\n",
            "Test Accuracy:  0.9754464030265808\n"
          ]
        }
      ]
    },
    {
      "cell_type": "markdown",
      "source": [
        "#Make predictions and print the classification report"
      ],
      "metadata": {
        "id": "bigILydJBTFt"
      }
    },
    {
      "cell_type": "code",
      "source": [
        "preds = model.predict_generator(test_gen)  # predict probabilities for the test data\n",
        "y_pred = np.argmax(preds, axis=1)  # get the predicted classes\n",
        "print(y_pred)  # print the predicted classes\n"
      ],
      "metadata": {
        "colab": {
          "base_uri": "https://localhost:8080/"
        },
        "id": "jb_DdLdMZ8ob",
        "outputId": "2f3904dd-3258-4b26-d089-3dacc3e88985"
      },
      "execution_count": null,
      "outputs": [
        {
          "output_type": "stream",
          "name": "stdout",
          "text": [
            "[38 43 25  7 28 26 38 26 26 31 25  1 36 25 24 43 30 34 42 29  0 24 43 28\n",
            " 25 27 43 30 26 27 16 27 43 42  2 42 24 27 42 43 26 12 26 37 27 40  1 24\n",
            " 21  1  5 14 26  1 22 41 43  5 43 29 28 13 43 26 25  1  9 16 24  2 37  2\n",
            " 34 27  2 36  7 36 24 36 24 36 42 28 37 42 18  1 37 24 24 28 42 33 39  1\n",
            " 17  8 11 34 37 42  3  0 32  5  2 43 26 30  1 26 30  7 28  4 35 26 30 19\n",
            " 40 25  3 25  1 22 25 28 33  3 25 39  0  0 42 26 24 34 36 41 17 24 36 27\n",
            "  2  7  9  2 24 37 37  2 33 36 34 32 42 43 25 28 23 28  0 31  0 38 28  1\n",
            " 24  6 26 24 31  5 43 38 28 37 11  4 27 43  4 13 24 27 40 26 24 41  4  3\n",
            " 36 13  1 38 29 30 38 28 25  1 33 43 31 24 40 37 36 28 25 32 37 40 25 28\n",
            " 16 32 29 42 42 29  1  2  1 15 25  0  5  7 38 32 27 40  1  1 43 26  2 25\n",
            " 36 36 25 25  0 25 25 30  0 43 25  2  4  3  5 28 25 17 34  8 27 33 33 25\n",
            " 29  0  0 28 18 26 37 34 42 25 29 22 26 36 42 25 43 27 35 42  1 35 21 38\n",
            " 37 16 35  0 43 10  1 27 42 15  8 34 24 43 23  0 31  0 35 15 35 42  2 26\n",
            "  1 25 28 25 32 38 43 22 35 15 22 34  4 25 24  0  2 37 25 37  3  6  6 16\n",
            " 38 24 43 26 24 43  2 37  0  8 25 24 29 25 36 35 42 37 26 26 43 28 14 31\n",
            " 22 30 22 26  1  2  0 42 39 40 25 29 15 43 43 13  4  2 16 42  5  1 40  1\n",
            " 42 25  1 16 36 19 42  4  4  2 17  0  4 24  0 38 25 25 28 42 43 15 43 14\n",
            " 16 25 14  8 25 38 17 26 24 24 28  1 43 10 23 24 34 28 25 42 12  2 29 37\n",
            "  4 37 32 16 40 31  6 36 34 37 28 24 37 23 20 42]\n"
          ]
        }
      ]
    },
    {
      "cell_type": "code",
      "source": [
        "g_dict = test_gen.class_indices  # get the class indices from the test generator\n",
        "classes = list(g_dict.keys())  # get the class labels\n",
        "\n",
        "# Classification report\n",
        "print(classification_report(test_gen.classes, y_pred, target_names=classes))  # print the classification report\n"
      ],
      "metadata": {
        "colab": {
          "base_uri": "https://localhost:8080/"
        },
        "id": "OLqCV4LtZ-Yg",
        "outputId": "a073fe16-c100-403c-d4d7-cef1ba68a14f"
      },
      "execution_count": null,
      "outputs": [
        {
          "output_type": "stream",
          "name": "stdout",
          "text": [
            "                        precision    recall  f1-score   support\n",
            "\n",
            "        Astrocitoma T1       0.95      1.00      0.97        18\n",
            "      Astrocitoma T1C+       1.00      1.00      1.00        24\n",
            "        Astrocitoma T2       0.94      1.00      0.97        17\n",
            "          Carcinoma T1       1.00      0.86      0.92         7\n",
            "        Carcinoma T1C+       0.91      0.91      0.91        11\n",
            "          Carcinoma T2       1.00      1.00      1.00         7\n",
            "         Ependimoma T1       1.00      1.00      1.00         4\n",
            "       Ependimoma T1C+       1.00      1.00      1.00         5\n",
            "         Ependimoma T2       1.00      1.00      1.00         5\n",
            "      Ganglioglioma T1       1.00      1.00      1.00         2\n",
            "    Ganglioglioma T1C+       1.00      1.00      1.00         2\n",
            "      Ganglioglioma T2       1.00      1.00      1.00         2\n",
            "          Germinoma T1       1.00      1.00      1.00         2\n",
            "        Germinoma T1C+       1.00      1.00      1.00         4\n",
            "          Germinoma T2       1.00      1.00      1.00         4\n",
            "       Glioblastoma T1       1.00      1.00      1.00         6\n",
            "     Glioblastoma T1C+       1.00      1.00      1.00         9\n",
            "       Glioblastoma T2       1.00      1.00      1.00         5\n",
            "          Granuloma T1       1.00      0.67      0.80         3\n",
            "        Granuloma T1C+       1.00      0.67      0.80         3\n",
            "          Granuloma T2       1.00      0.50      0.67         2\n",
            "     Meduloblastoma T1       1.00      1.00      1.00         2\n",
            "   Meduloblastoma T1C+       1.00      1.00      1.00         7\n",
            "     Meduloblastoma T2       1.00      1.00      1.00         4\n",
            "         Meningioma T1       0.93      0.93      0.93        27\n",
            "       Meningioma T1C+       0.95      0.95      0.95        37\n",
            "         Meningioma T2       1.00      0.96      0.98        24\n",
            "        Neurocitoma T1       1.00      1.00      1.00        13\n",
            "      Neurocitoma T1C+       1.00      1.00      1.00        22\n",
            "        Neurocitoma T2       1.00      0.91      0.95        11\n",
            "  Oligodendroglioma T1       1.00      1.00      1.00         8\n",
            "Oligodendroglioma T1C+       1.00      1.00      1.00         7\n",
            "  Oligodendroglioma T2       1.00      1.00      1.00         7\n",
            "           Papiloma T1       1.00      1.00      1.00         6\n",
            "         Papiloma T1C+       1.00      1.00      1.00        11\n",
            "           Papiloma T2       0.88      1.00      0.93         7\n",
            "         Schwannoma T1       0.94      1.00      0.97        15\n",
            "       Schwannoma T1C+       0.95      1.00      0.97        19\n",
            "         Schwannoma T2       1.00      1.00      1.00        12\n",
            "        Tuberculoma T1       1.00      1.00      1.00         3\n",
            "      Tuberculoma T1C+       1.00      1.00      1.00         9\n",
            "        Tuberculoma T2       1.00      1.00      1.00         3\n",
            "            _NORMAL T1       1.00      1.00      1.00        25\n",
            "            _NORMAL T2       0.96      1.00      0.98        27\n",
            "\n",
            "              accuracy                           0.98       448\n",
            "             macro avg       0.99      0.96      0.97       448\n",
            "          weighted avg       0.98      0.98      0.97       448\n",
            "\n"
          ]
        }
      ]
    }
  ]
}